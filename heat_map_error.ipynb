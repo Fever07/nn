{
 "cells": [
  {
   "cell_type": "code",
   "execution_count": 1,
   "metadata": {
    "collapsed": true
   },
   "outputs": [],
   "source": [
    "import numpy as np\n",
    "import pickle\n",
    "import os\n",
    "from matplotlib import pyplot as plt\n",
    "from core.utils_nn import parse_file, parse_pred_file\n",
    "%matplotlib inline\n",
    "plt.rcParams['figure.figsize'] = (10, 6)"
   ]
  },
  {
   "cell_type": "code",
   "execution_count": 42,
   "metadata": {
    "collapsed": true
   },
   "outputs": [],
   "source": [
    "model_name = 'inceptionv3'\n",
    "test_name = 'test.txt'\n",
    "pred_test = 'pred_test.pkl'\n",
    "a_pred_test = '{}_on_{}.pkl'.format(model_name, model_name)\n",
    "\n",
    "absp = '../__aorta_razv'"
   ]
  },
  {
   "cell_type": "code",
   "execution_count": 43,
   "metadata": {
    "collapsed": true
   },
   "outputs": [],
   "source": [
    "a_neg_fname = 'a_probs_neg_0.1.pkl'\n",
    "a_pos_fname = 'a_probs_pos_0.1.pkl'\n",
    "neg_sizes_fname = 'neg_sizes.pkl'\n",
    "pos_sizes_fname = 'pos_sizes.pkl'"
   ]
  },
  {
   "cell_type": "code",
   "execution_count": 44,
   "metadata": {
    "collapsed": false
   },
   "outputs": [],
   "source": [
    "_, y = parse_file(os.path.join(absp, test_name))\n",
    "pred_y = parse_pred_file(os.path.join(absp, model_name, pred_test))\n",
    "a_pred_y = parse_pred_file(os.path.join(absp, model_name, a_pred_test))\n",
    "a_pos_y = parse_pred_file(os.path.join(absp, model_name, a_pos_fname))\n",
    "a_neg_y = parse_pred_file(os.path.join(absp, model_name, a_neg_fname))\n",
    "pos_sizes = parse_pred_file(os.path.join(absp, model_name, pos_sizes_fname))\n",
    "neg_sizes = parse_pred_file(os.path.join(absp, model_name, neg_sizes_fname))"
   ]
  },
  {
   "cell_type": "code",
   "execution_count": 45,
   "metadata": {
    "collapsed": false
   },
   "outputs": [],
   "source": [
    "y = np.array(y)"
   ]
  },
  {
   "cell_type": "code",
   "execution_count": 46,
   "metadata": {
    "collapsed": true
   },
   "outputs": [],
   "source": [
    "cor_inds = np.where(y - np.argmax(pred_y, axis=1) == 0)[0]"
   ]
  },
  {
   "cell_type": "code",
   "execution_count": 47,
   "metadata": {
    "collapsed": false
   },
   "outputs": [],
   "source": [
    "y = y[cor_inds]\n",
    "pred_y = pred_y[cor_inds]\n",
    "a_pred_y = a_pred_y[cor_inds]\n",
    "a_pos_y = a_pos_y[cor_inds]\n",
    "a_neg_y = a_neg_y[cor_inds]\n",
    "pos_sizes = pos_sizes[cor_inds]\n",
    "neg_sizes = neg_sizes[cor_inds]"
   ]
  },
  {
   "cell_type": "code",
   "execution_count": 48,
   "metadata": {
    "collapsed": true
   },
   "outputs": [],
   "source": [
    "a_y = np.argmax(a_pred_y, axis=1)\n",
    "a_py = np.argmax(a_pos_y, axis=1)\n",
    "a_ny = np.argmax(a_neg_y, axis=1)"
   ]
  },
  {
   "cell_type": "code",
   "execution_count": 49,
   "metadata": {
    "collapsed": false
   },
   "outputs": [],
   "source": [
    "a_err = len(np.where(y - a_y != 0)[0]) / len(y)\n",
    "a_perr = len(np.where(y - a_py != 0)[0]) / len(y)\n",
    "a_nerr = len(np.where(y - a_ny != 0)[0]) / len(y)"
   ]
  },
  {
   "cell_type": "code",
   "execution_count": 50,
   "metadata": {
    "collapsed": false
   },
   "outputs": [
    {
     "data": {
      "text/plain": [
       "(0.38564273789649417, 0.3865967088003816, 0.19771046983067017)"
      ]
     },
     "execution_count": 50,
     "metadata": {},
     "output_type": "execute_result"
    }
   ],
   "source": [
    "a_err, a_perr, a_nerr"
   ]
  },
  {
   "cell_type": "code",
   "execution_count": 51,
   "metadata": {
    "collapsed": false
   },
   "outputs": [
    {
     "data": {
      "text/plain": [
       "(0.37882864, 0.62117136)"
      ]
     },
     "execution_count": 51,
     "metadata": {},
     "output_type": "execute_result"
    }
   ],
   "source": [
    "pos_sizes.mean(), neg_sizes.mean()"
   ]
  },
  {
   "cell_type": "code",
   "execution_count": null,
   "metadata": {
    "collapsed": true
   },
   "outputs": [],
   "source": []
  }
 ],
 "metadata": {
  "kernelspec": {
   "display_name": "Python 3",
   "language": "python",
   "name": "python3"
  },
  "language_info": {
   "codemirror_mode": {
    "name": "ipython",
    "version": 3
   },
   "file_extension": ".py",
   "mimetype": "text/x-python",
   "name": "python",
   "nbconvert_exporter": "python",
   "pygments_lexer": "ipython3",
   "version": "3.6.6"
  }
 },
 "nbformat": 4,
 "nbformat_minor": 2
}
