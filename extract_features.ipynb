{
 "cells": [
  {
   "cell_type": "code",
   "execution_count": 1,
   "metadata": {
    "collapsed": false
   },
   "outputs": [],
   "source": [
    "import os\n",
    "import sys\n",
    "from datetime import datetime\n",
    "import numpy as np\n",
    "from numpy.random import seed\n",
    "from PIL import Image\n",
    "import tensorflow as tf\n",
    "from tensorflow.keras.models import load_model\n",
    "from tensorflow.keras import backend as K\n",
    "from tensorflow import set_random_seed\n",
    "from tensorflow.keras.models import Model\n",
    "\n",
    "from core.utils_nn import parse_file, load_gray_image, load_color_image, get_model_path, to_abs\n",
    "from core.generator import ConfigurationGenerator, Generator\n",
    "from core.pgd_attack import PGD_attack as pgd\n",
    "import pickle\n",
    "\n",
    "from tensorflow.keras.applications.inception_v3 import InceptionV3"
   ]
  },
  {
   "cell_type": "code",
   "execution_count": 2,
   "metadata": {
    "collapsed": false
   },
   "outputs": [],
   "source": [
    "input_shape = [256, 256, 1]\n",
    "n_classes = 2\n",
    "batch_size = 25\n",
    "images_are_colored = False\n",
    "train_file = 'train.txt'\n",
    "test_file = 'test.txt'\n",
    "os.environ['CUDA_VISIBLE_DEVICES'] = '0'"
   ]
  },
  {
   "cell_type": "code",
   "execution_count": 3,
   "metadata": {
    "collapsed": false
   },
   "outputs": [],
   "source": [
    "absp = '../__xray_age_new_20-35_50-70_'"
   ]
  },
  {
   "cell_type": "code",
   "execution_count": 4,
   "metadata": {
    "collapsed": false
   },
   "outputs": [],
   "source": [
    "model_path = get_model_path(absp, model_name='inceptionv3')"
   ]
  },
  {
   "cell_type": "code",
   "execution_count": 5,
   "metadata": {
    "collapsed": false
   },
   "outputs": [
    {
     "name": "stderr",
     "output_type": "stream",
     "text": [
      "WARNING: Logging before flag parsing goes to stderr.\n",
      "W1103 23:32:47.390562 140288152303424 deprecation.py:506] From /home/dmitryvoynov/nn/lib/python3.6/site-packages/tensorflow/python/ops/init_ops.py:97: calling VarianceScaling.__init__ (from tensorflow.python.ops.init_ops) with dtype is deprecated and will be removed in a future version.\n",
      "Instructions for updating:\n",
      "Call initializer instance with the dtype argument instead of passing it to the constructor\n",
      "W1103 23:32:47.391389 140288152303424 deprecation.py:506] From /home/dmitryvoynov/nn/lib/python3.6/site-packages/tensorflow/python/ops/init_ops.py:97: calling Zeros.__init__ (from tensorflow.python.ops.init_ops) with dtype is deprecated and will be removed in a future version.\n",
      "Instructions for updating:\n",
      "Call initializer instance with the dtype argument instead of passing it to the constructor\n",
      "W1103 23:32:47.395060 140288152303424 deprecation.py:506] From /home/dmitryvoynov/nn/lib/python3.6/site-packages/tensorflow/python/ops/init_ops.py:97: calling Ones.__init__ (from tensorflow.python.ops.init_ops) with dtype is deprecated and will be removed in a future version.\n",
      "Instructions for updating:\n",
      "Call initializer instance with the dtype argument instead of passing it to the constructor\n",
      "W1103 23:32:54.375573 140288152303424 hdf5_format.py:221] No training configuration found in save file: the model was *not* compiled. Compile it manually.\n"
     ]
    }
   ],
   "source": [
    "model = load_model(model_path)"
   ]
  },
  {
   "cell_type": "code",
   "execution_count": 7,
   "metadata": {
    "collapsed": true
   },
   "outputs": [],
   "source": [
    "feature_model = Model(inputs=model.input, outputs=model.layers[-2].output)"
   ]
  },
  {
   "cell_type": "code",
   "execution_count": 8,
   "metadata": {
    "collapsed": false
   },
   "outputs": [
    {
     "data": {
      "text/plain": [
       "<tf.Tensor 'avg_pool/Mean:0' shape=(?, 2048) dtype=float32>"
      ]
     },
     "execution_count": 8,
     "metadata": {},
     "output_type": "execute_result"
    }
   ],
   "source": [
    "feature_model.output"
   ]
  },
  {
   "cell_type": "code",
   "execution_count": 5,
   "metadata": {
    "collapsed": false
   },
   "outputs": [
    {
     "data": {
      "text/plain": [
       "{'Activation',\n",
       " 'AveragePooling2D',\n",
       " 'BatchNormalization',\n",
       " 'Concatenate',\n",
       " 'Conv2D',\n",
       " 'Dense',\n",
       " 'GlobalAveragePooling2D',\n",
       " 'InputLayer',\n",
       " 'MaxPooling2D'}"
      ]
     },
     "execution_count": 5,
     "metadata": {},
     "output_type": "execute_result"
    }
   ],
   "source": [
    "layer_names = set([type(layer).__name__ for layer in model.layers])\n",
    "layer_names"
   ]
  },
  {
   "cell_type": "code",
   "execution_count": 6,
   "metadata": {
    "collapsed": true
   },
   "outputs": [],
   "source": [
    "not_used_layers = ['Concatenate', 'InputLayer', 'Dense']"
   ]
  },
  {
   "cell_type": "code",
   "execution_count": 7,
   "metadata": {
    "collapsed": false
   },
   "outputs": [],
   "source": [
    "layers_num = dict(zip(layer_names, [0] * len(layer_names)))"
   ]
  },
  {
   "cell_type": "code",
   "execution_count": 8,
   "metadata": {
    "collapsed": false
   },
   "outputs": [
    {
     "data": {
      "text/plain": [
       "{'GlobalAveragePooling2D': 1,\n",
       " 'Dense': 1,\n",
       " 'Concatenate': 15,\n",
       " 'InputLayer': 1,\n",
       " 'MaxPooling2D': 4,\n",
       " 'AveragePooling2D': 9,\n",
       " 'Conv2D': 94,\n",
       " 'Activation': 94,\n",
       " 'BatchNormalization': 94}"
      ]
     },
     "execution_count": 8,
     "metadata": {},
     "output_type": "execute_result"
    }
   ],
   "source": [
    "for layer_name in layers_num:\n",
    "    layers_num[layer_name] = len([layer for layer in model.layers if type(layer).__name__ == layer_name])\n",
    "layers_num"
   ]
  },
  {
   "cell_type": "code",
   "execution_count": 9,
   "metadata": {
    "collapsed": false
   },
   "outputs": [
    {
     "data": {
      "text/plain": [
       "{'Activation',\n",
       " 'AveragePooling2D',\n",
       " 'BatchNormalization',\n",
       " 'Conv2D',\n",
       " 'GlobalAveragePooling2D',\n",
       " 'MaxPooling2D'}"
      ]
     },
     "execution_count": 9,
     "metadata": {},
     "output_type": "execute_result"
    }
   ],
   "source": [
    "used_layer_names = layer_names.difference(set(not_used_layers))\n",
    "used_layer_names"
   ]
  },
  {
   "cell_type": "code",
   "execution_count": 10,
   "metadata": {
    "collapsed": true
   },
   "outputs": [],
   "source": [
    "each_layer_feature_model = Model(\n",
    "    inputs=model.input,\n",
    "    outputs=[l.output for l in model.layers if type(l).__name__ in used_layer_names]\n",
    ")"
   ]
  },
  {
   "cell_type": "code",
   "execution_count": 11,
   "metadata": {
    "collapsed": false
   },
   "outputs": [],
   "source": [
    "def parse_shape(tf_shape):\n",
    "    return np.array([int(d) for d in list(tf_shape)[1:]])\n",
    "\n",
    "def get_shape(tf_layer):\n",
    "    return parse_shape(tf_layer.shape)"
   ]
  },
  {
   "cell_type": "code",
   "execution_count": 12,
   "metadata": {
    "collapsed": false
   },
   "outputs": [
    {
     "data": {
      "text/plain": [
       "[array([127, 127,  32]),\n",
       " array([127, 127,  32]),\n",
       " array([127, 127,  32]),\n",
       " array([125, 125,  32]),\n",
       " array([125, 125,  32]),\n",
       " array([125, 125,  32]),\n",
       " array([125, 125,  64]),\n",
       " array([125, 125,  64]),\n",
       " array([125, 125,  64]),\n",
       " array([62, 62, 64]),\n",
       " array([62, 62, 80]),\n",
       " array([62, 62, 80]),\n",
       " array([62, 62, 80]),\n",
       " array([ 60,  60, 192]),\n",
       " array([ 60,  60, 192]),\n",
       " array([ 60,  60, 192]),\n",
       " array([ 29,  29, 192]),\n",
       " array([29, 29, 64]),\n",
       " array([29, 29, 64]),\n",
       " array([29, 29, 64]),\n",
       " array([29, 29, 48]),\n",
       " array([29, 29, 96]),\n",
       " array([29, 29, 48]),\n",
       " array([29, 29, 96]),\n",
       " array([29, 29, 48]),\n",
       " array([29, 29, 96]),\n",
       " array([ 29,  29, 192]),\n",
       " array([29, 29, 64]),\n",
       " array([29, 29, 64]),\n",
       " array([29, 29, 96]),\n",
       " array([29, 29, 32]),\n",
       " array([29, 29, 64]),\n",
       " array([29, 29, 64]),\n",
       " array([29, 29, 96]),\n",
       " array([29, 29, 32]),\n",
       " array([29, 29, 64]),\n",
       " array([29, 29, 64]),\n",
       " array([29, 29, 96]),\n",
       " array([29, 29, 32]),\n",
       " array([29, 29, 64]),\n",
       " array([29, 29, 64]),\n",
       " array([29, 29, 64]),\n",
       " array([29, 29, 48]),\n",
       " array([29, 29, 96]),\n",
       " array([29, 29, 48]),\n",
       " array([29, 29, 96]),\n",
       " array([29, 29, 48]),\n",
       " array([29, 29, 96]),\n",
       " array([ 29,  29, 256]),\n",
       " array([29, 29, 64]),\n",
       " array([29, 29, 64]),\n",
       " array([29, 29, 96]),\n",
       " array([29, 29, 64]),\n",
       " array([29, 29, 64]),\n",
       " array([29, 29, 64]),\n",
       " array([29, 29, 96]),\n",
       " array([29, 29, 64]),\n",
       " array([29, 29, 64]),\n",
       " array([29, 29, 64]),\n",
       " array([29, 29, 96]),\n",
       " array([29, 29, 64]),\n",
       " array([29, 29, 64]),\n",
       " array([29, 29, 64]),\n",
       " array([29, 29, 64]),\n",
       " array([29, 29, 48]),\n",
       " array([29, 29, 96]),\n",
       " array([29, 29, 48]),\n",
       " array([29, 29, 96]),\n",
       " array([29, 29, 48]),\n",
       " array([29, 29, 96]),\n",
       " array([ 29,  29, 288]),\n",
       " array([29, 29, 64]),\n",
       " array([29, 29, 64]),\n",
       " array([29, 29, 96]),\n",
       " array([29, 29, 64]),\n",
       " array([29, 29, 64]),\n",
       " array([29, 29, 64]),\n",
       " array([29, 29, 96]),\n",
       " array([29, 29, 64]),\n",
       " array([29, 29, 64]),\n",
       " array([29, 29, 64]),\n",
       " array([29, 29, 96]),\n",
       " array([29, 29, 64]),\n",
       " array([29, 29, 64]),\n",
       " array([29, 29, 64]),\n",
       " array([29, 29, 64]),\n",
       " array([29, 29, 96]),\n",
       " array([29, 29, 96]),\n",
       " array([29, 29, 96]),\n",
       " array([ 14,  14, 384]),\n",
       " array([14, 14, 96]),\n",
       " array([ 14,  14, 384]),\n",
       " array([14, 14, 96]),\n",
       " array([ 14,  14, 384]),\n",
       " array([14, 14, 96]),\n",
       " array([ 14,  14, 288]),\n",
       " array([ 14,  14, 128]),\n",
       " array([ 14,  14, 128]),\n",
       " array([ 14,  14, 128]),\n",
       " array([ 14,  14, 128]),\n",
       " array([ 14,  14, 128]),\n",
       " array([ 14,  14, 128]),\n",
       " array([ 14,  14, 128]),\n",
       " array([ 14,  14, 128]),\n",
       " array([ 14,  14, 128]),\n",
       " array([ 14,  14, 128]),\n",
       " array([ 14,  14, 128]),\n",
       " array([ 14,  14, 128]),\n",
       " array([ 14,  14, 128]),\n",
       " array([ 14,  14, 128]),\n",
       " array([ 14,  14, 128]),\n",
       " array([ 14,  14, 128]),\n",
       " array([ 14,  14, 128]),\n",
       " array([ 14,  14, 128]),\n",
       " array([ 14,  14, 768]),\n",
       " array([ 14,  14, 192]),\n",
       " array([ 14,  14, 192]),\n",
       " array([ 14,  14, 192]),\n",
       " array([ 14,  14, 192]),\n",
       " array([ 14,  14, 192]),\n",
       " array([ 14,  14, 192]),\n",
       " array([ 14,  14, 192]),\n",
       " array([ 14,  14, 192]),\n",
       " array([ 14,  14, 192]),\n",
       " array([ 14,  14, 192]),\n",
       " array([ 14,  14, 192]),\n",
       " array([ 14,  14, 192]),\n",
       " array([ 14,  14, 160]),\n",
       " array([ 14,  14, 160]),\n",
       " array([ 14,  14, 160]),\n",
       " array([ 14,  14, 160]),\n",
       " array([ 14,  14, 160]),\n",
       " array([ 14,  14, 160]),\n",
       " array([ 14,  14, 160]),\n",
       " array([ 14,  14, 160]),\n",
       " array([ 14,  14, 160]),\n",
       " array([ 14,  14, 160]),\n",
       " array([ 14,  14, 160]),\n",
       " array([ 14,  14, 160]),\n",
       " array([ 14,  14, 160]),\n",
       " array([ 14,  14, 160]),\n",
       " array([ 14,  14, 160]),\n",
       " array([ 14,  14, 160]),\n",
       " array([ 14,  14, 160]),\n",
       " array([ 14,  14, 160]),\n",
       " array([ 14,  14, 768]),\n",
       " array([ 14,  14, 192]),\n",
       " array([ 14,  14, 192]),\n",
       " array([ 14,  14, 192]),\n",
       " array([ 14,  14, 192]),\n",
       " array([ 14,  14, 192]),\n",
       " array([ 14,  14, 192]),\n",
       " array([ 14,  14, 192]),\n",
       " array([ 14,  14, 192]),\n",
       " array([ 14,  14, 192]),\n",
       " array([ 14,  14, 192]),\n",
       " array([ 14,  14, 192]),\n",
       " array([ 14,  14, 192]),\n",
       " array([ 14,  14, 160]),\n",
       " array([ 14,  14, 160]),\n",
       " array([ 14,  14, 160]),\n",
       " array([ 14,  14, 160]),\n",
       " array([ 14,  14, 160]),\n",
       " array([ 14,  14, 160]),\n",
       " array([ 14,  14, 160]),\n",
       " array([ 14,  14, 160]),\n",
       " array([ 14,  14, 160]),\n",
       " array([ 14,  14, 160]),\n",
       " array([ 14,  14, 160]),\n",
       " array([ 14,  14, 160]),\n",
       " array([ 14,  14, 160]),\n",
       " array([ 14,  14, 160]),\n",
       " array([ 14,  14, 160]),\n",
       " array([ 14,  14, 160]),\n",
       " array([ 14,  14, 160]),\n",
       " array([ 14,  14, 160]),\n",
       " array([ 14,  14, 768]),\n",
       " array([ 14,  14, 192]),\n",
       " array([ 14,  14, 192]),\n",
       " array([ 14,  14, 192]),\n",
       " array([ 14,  14, 192]),\n",
       " array([ 14,  14, 192]),\n",
       " array([ 14,  14, 192]),\n",
       " array([ 14,  14, 192]),\n",
       " array([ 14,  14, 192]),\n",
       " array([ 14,  14, 192]),\n",
       " array([ 14,  14, 192]),\n",
       " array([ 14,  14, 192]),\n",
       " array([ 14,  14, 192]),\n",
       " array([ 14,  14, 192]),\n",
       " array([ 14,  14, 192]),\n",
       " array([ 14,  14, 192]),\n",
       " array([ 14,  14, 192]),\n",
       " array([ 14,  14, 192]),\n",
       " array([ 14,  14, 192]),\n",
       " array([ 14,  14, 192]),\n",
       " array([ 14,  14, 192]),\n",
       " array([ 14,  14, 192]),\n",
       " array([ 14,  14, 192]),\n",
       " array([ 14,  14, 192]),\n",
       " array([ 14,  14, 192]),\n",
       " array([ 14,  14, 192]),\n",
       " array([ 14,  14, 192]),\n",
       " array([ 14,  14, 192]),\n",
       " array([ 14,  14, 192]),\n",
       " array([ 14,  14, 192]),\n",
       " array([ 14,  14, 192]),\n",
       " array([ 14,  14, 768]),\n",
       " array([ 14,  14, 192]),\n",
       " array([ 14,  14, 192]),\n",
       " array([ 14,  14, 192]),\n",
       " array([ 14,  14, 192]),\n",
       " array([ 14,  14, 192]),\n",
       " array([ 14,  14, 192]),\n",
       " array([ 14,  14, 192]),\n",
       " array([ 14,  14, 192]),\n",
       " array([ 14,  14, 192]),\n",
       " array([ 14,  14, 192]),\n",
       " array([ 14,  14, 192]),\n",
       " array([ 14,  14, 192]),\n",
       " array([ 14,  14, 192]),\n",
       " array([ 14,  14, 192]),\n",
       " array([ 14,  14, 192]),\n",
       " array([ 14,  14, 192]),\n",
       " array([ 14,  14, 192]),\n",
       " array([ 14,  14, 192]),\n",
       " array([ 14,  14, 192]),\n",
       " array([ 14,  14, 192]),\n",
       " array([ 14,  14, 192]),\n",
       " array([ 14,  14, 192]),\n",
       " array([ 14,  14, 192]),\n",
       " array([ 14,  14, 192]),\n",
       " array([  6,   6, 320]),\n",
       " array([  6,   6, 192]),\n",
       " array([  6,   6, 320]),\n",
       " array([  6,   6, 192]),\n",
       " array([  6,   6, 320]),\n",
       " array([  6,   6, 192]),\n",
       " array([  6,   6, 768]),\n",
       " array([  6,   6, 448]),\n",
       " array([  6,   6, 448]),\n",
       " array([  6,   6, 448]),\n",
       " array([  6,   6, 384]),\n",
       " array([  6,   6, 384]),\n",
       " array([  6,   6, 384]),\n",
       " array([  6,   6, 384]),\n",
       " array([  6,   6, 384]),\n",
       " array([  6,   6, 384]),\n",
       " array([  6,   6, 384]),\n",
       " array([  6,   6, 384]),\n",
       " array([  6,   6, 384]),\n",
       " array([  6,   6, 384]),\n",
       " array([   6,    6, 1280]),\n",
       " array([  6,   6, 320]),\n",
       " array([  6,   6, 384]),\n",
       " array([  6,   6, 384]),\n",
       " array([  6,   6, 384]),\n",
       " array([  6,   6, 384]),\n",
       " array([  6,   6, 192]),\n",
       " array([  6,   6, 320]),\n",
       " array([  6,   6, 384]),\n",
       " array([  6,   6, 384]),\n",
       " array([  6,   6, 384]),\n",
       " array([  6,   6, 384]),\n",
       " array([  6,   6, 192]),\n",
       " array([  6,   6, 320]),\n",
       " array([  6,   6, 192]),\n",
       " array([  6,   6, 448]),\n",
       " array([  6,   6, 448]),\n",
       " array([  6,   6, 448]),\n",
       " array([  6,   6, 384]),\n",
       " array([  6,   6, 384]),\n",
       " array([  6,   6, 384]),\n",
       " array([  6,   6, 384]),\n",
       " array([  6,   6, 384]),\n",
       " array([  6,   6, 384]),\n",
       " array([  6,   6, 384]),\n",
       " array([  6,   6, 384]),\n",
       " array([  6,   6, 384]),\n",
       " array([  6,   6, 384]),\n",
       " array([   6,    6, 2048]),\n",
       " array([  6,   6, 320]),\n",
       " array([  6,   6, 384]),\n",
       " array([  6,   6, 384]),\n",
       " array([  6,   6, 384]),\n",
       " array([  6,   6, 384]),\n",
       " array([  6,   6, 192]),\n",
       " array([  6,   6, 320]),\n",
       " array([  6,   6, 384]),\n",
       " array([  6,   6, 384]),\n",
       " array([  6,   6, 384]),\n",
       " array([  6,   6, 384]),\n",
       " array([  6,   6, 192]),\n",
       " array([  6,   6, 320]),\n",
       " array([  6,   6, 192]),\n",
       " array([2048])]"
      ]
     },
     "execution_count": 12,
     "metadata": {},
     "output_type": "execute_result"
    }
   ],
   "source": [
    "outputs_shape = list(map(get_shape, each_layer_feature_model.outputs))\n",
    "outputs_shape"
   ]
  },
  {
   "cell_type": "code",
   "execution_count": 13,
   "metadata": {
    "collapsed": false
   },
   "outputs": [
    {
     "data": {
      "text/plain": [
       "74256"
      ]
     },
     "execution_count": 13,
     "metadata": {},
     "output_type": "execute_result"
    }
   ],
   "source": [
    "np.sum([np.sum(shape) for shape in outputs_shape])"
   ]
  },
  {
   "cell_type": "code",
   "execution_count": 14,
   "metadata": {
    "collapsed": true
   },
   "outputs": [],
   "source": [
    "paths, labels = parse_file(os.path.join(absp, 'train.txt'))"
   ]
  },
  {
   "cell_type": "code",
   "execution_count": 30,
   "metadata": {
    "collapsed": false
   },
   "outputs": [],
   "source": [
    "imgs = list(map(Image.open, paths[0: 10]))"
   ]
  },
  {
   "cell_type": "code",
   "execution_count": 32,
   "metadata": {
    "collapsed": false
   },
   "outputs": [],
   "source": [
    "imgs = np.array([np.array(img)[:, :, :3] for img in imgs])\n",
    "features = each_layer_feature_model.predict(imgs)"
   ]
  },
  {
   "cell_type": "code",
   "execution_count": 33,
   "metadata": {
    "collapsed": false
   },
   "outputs": [
    {
     "data": {
      "text/plain": [
       "(296, 296)"
      ]
     },
     "execution_count": 33,
     "metadata": {},
     "output_type": "execute_result"
    }
   ],
   "source": [
    "len(each_layer_feature_model.outputs), len(features)"
   ]
  },
  {
   "cell_type": "code",
   "execution_count": 34,
   "metadata": {
    "collapsed": false
   },
   "outputs": [
    {
     "data": {
      "text/plain": [
       "(10, 127, 127, 32)"
      ]
     },
     "execution_count": 34,
     "metadata": {},
     "output_type": "execute_result"
    }
   ],
   "source": [
    "features[0].shape"
   ]
  },
  {
   "cell_type": "code",
   "execution_count": 35,
   "metadata": {
    "collapsed": false
   },
   "outputs": [
    {
     "data": {
      "text/plain": [
       "(array([ 14,  14, 128]), (10, 14, 14, 128))"
      ]
     },
     "execution_count": 35,
     "metadata": {},
     "output_type": "execute_result"
    }
   ],
   "source": [
    "i = 103\n",
    "output = each_layer_feature_model.outputs[i]\n",
    "layer_features = features[i]\n",
    "get_shape(output), layer_features.shape"
   ]
  },
  {
   "cell_type": "code",
   "execution_count": 8,
   "metadata": {
    "collapsed": false
   },
   "outputs": [
    {
     "data": {
      "text/plain": [
       "<tensorflow.python.keras.engine.training.Model at 0x7f96c432ac18>"
      ]
     },
     "execution_count": 8,
     "metadata": {},
     "output_type": "execute_result"
    }
   ],
   "source": [
    "feature_model"
   ]
  },
  {
   "cell_type": "code",
   "execution_count": 13,
   "metadata": {
    "collapsed": false
   },
   "outputs": [],
   "source": [
    "generator = Generator(os.path.join(absp, 'test.txt'), colored=images_are_colored, batch_size=batch_size)"
   ]
  },
  {
   "cell_type": "code",
   "execution_count": 14,
   "metadata": {
    "collapsed": false
   },
   "outputs": [
    {
     "ename": "KeyboardInterrupt",
     "evalue": "",
     "output_type": "error",
     "traceback": [
      "\u001b[0;31m---------------------------------------------------------------------------\u001b[0m",
      "\u001b[0;31mKeyboardInterrupt\u001b[0m                         Traceback (most recent call last)",
      "\u001b[0;32m<ipython-input-14-eeff997ff3a1>\u001b[0m in \u001b[0;36m<module>\u001b[0;34m\u001b[0m\n\u001b[0;32m----> 1\u001b[0;31m \u001b[0mfeatures\u001b[0m \u001b[0;34m=\u001b[0m \u001b[0mfeature_model\u001b[0m\u001b[0;34m.\u001b[0m\u001b[0mpredict_generator\u001b[0m\u001b[0;34m(\u001b[0m\u001b[0mgenerator\u001b[0m\u001b[0;34m,\u001b[0m \u001b[0mworkers\u001b[0m\u001b[0;34m=\u001b[0m\u001b[0;36m4\u001b[0m\u001b[0;34m,\u001b[0m \u001b[0muse_multiprocessing\u001b[0m\u001b[0;34m=\u001b[0m\u001b[0;32mTrue\u001b[0m\u001b[0;34m,\u001b[0m \u001b[0mverbose\u001b[0m\u001b[0;34m=\u001b[0m\u001b[0;36m1\u001b[0m\u001b[0;34m)\u001b[0m\u001b[0;34m\u001b[0m\u001b[0;34m\u001b[0m\u001b[0m\n\u001b[0m",
      "\u001b[0;32m~/nn/lib/python3.6/site-packages/tensorflow/python/keras/engine/training.py\u001b[0m in \u001b[0;36mpredict_generator\u001b[0;34m(self, generator, steps, callbacks, max_queue_size, workers, use_multiprocessing, verbose)\u001b[0m\n\u001b[1;32m   1553\u001b[0m         \u001b[0muse_multiprocessing\u001b[0m\u001b[0;34m=\u001b[0m\u001b[0muse_multiprocessing\u001b[0m\u001b[0;34m,\u001b[0m\u001b[0;34m\u001b[0m\u001b[0;34m\u001b[0m\u001b[0m\n\u001b[1;32m   1554\u001b[0m         \u001b[0mverbose\u001b[0m\u001b[0;34m=\u001b[0m\u001b[0mverbose\u001b[0m\u001b[0;34m,\u001b[0m\u001b[0;34m\u001b[0m\u001b[0;34m\u001b[0m\u001b[0m\n\u001b[0;32m-> 1555\u001b[0;31m         callbacks=callbacks)\n\u001b[0m\u001b[1;32m   1556\u001b[0m \u001b[0;34m\u001b[0m\u001b[0m\n\u001b[1;32m   1557\u001b[0m   def _validate_compile_param_for_distribution_strategy(\n",
      "\u001b[0;32m~/nn/lib/python3.6/site-packages/tensorflow/python/keras/engine/training_generator.py\u001b[0m in \u001b[0;36mmodel_iteration\u001b[0;34m(model, data, steps_per_epoch, epochs, verbose, callbacks, validation_data, validation_steps, validation_freq, class_weight, max_queue_size, workers, use_multiprocessing, shuffle, initial_epoch, mode, batch_size, steps_name, **kwargs)\u001b[0m\n\u001b[1;32m    218\u001b[0m     \u001b[0mstep\u001b[0m \u001b[0;34m=\u001b[0m \u001b[0;36m0\u001b[0m\u001b[0;34m\u001b[0m\u001b[0;34m\u001b[0m\u001b[0m\n\u001b[1;32m    219\u001b[0m     \u001b[0;32mwhile\u001b[0m \u001b[0mstep\u001b[0m \u001b[0;34m<\u001b[0m \u001b[0mtarget_steps\u001b[0m\u001b[0;34m:\u001b[0m\u001b[0;34m\u001b[0m\u001b[0;34m\u001b[0m\u001b[0m\n\u001b[0;32m--> 220\u001b[0;31m       \u001b[0mbatch_data\u001b[0m \u001b[0;34m=\u001b[0m \u001b[0m_get_next_batch\u001b[0m\u001b[0;34m(\u001b[0m\u001b[0mgenerator\u001b[0m\u001b[0;34m,\u001b[0m \u001b[0mmode\u001b[0m\u001b[0;34m)\u001b[0m\u001b[0;34m\u001b[0m\u001b[0;34m\u001b[0m\u001b[0m\n\u001b[0m\u001b[1;32m    221\u001b[0m       \u001b[0;32mif\u001b[0m \u001b[0mbatch_data\u001b[0m \u001b[0;32mis\u001b[0m \u001b[0;32mNone\u001b[0m\u001b[0;34m:\u001b[0m\u001b[0;34m\u001b[0m\u001b[0;34m\u001b[0m\u001b[0m\n\u001b[1;32m    222\u001b[0m         \u001b[0;32mif\u001b[0m \u001b[0mis_dataset\u001b[0m\u001b[0;34m:\u001b[0m\u001b[0;34m\u001b[0m\u001b[0;34m\u001b[0m\u001b[0m\n",
      "\u001b[0;32m~/nn/lib/python3.6/site-packages/tensorflow/python/keras/engine/training_generator.py\u001b[0m in \u001b[0;36m_get_next_batch\u001b[0;34m(generator, mode)\u001b[0m\n\u001b[1;32m    360\u001b[0m   \u001b[0;34m\"\"\"Retrieves the next batch of input data.\"\"\"\u001b[0m\u001b[0;34m\u001b[0m\u001b[0;34m\u001b[0m\u001b[0m\n\u001b[1;32m    361\u001b[0m   \u001b[0;32mtry\u001b[0m\u001b[0;34m:\u001b[0m\u001b[0;34m\u001b[0m\u001b[0;34m\u001b[0m\u001b[0m\n\u001b[0;32m--> 362\u001b[0;31m     \u001b[0mgenerator_output\u001b[0m \u001b[0;34m=\u001b[0m \u001b[0mnext\u001b[0m\u001b[0;34m(\u001b[0m\u001b[0mgenerator\u001b[0m\u001b[0;34m)\u001b[0m\u001b[0;34m\u001b[0m\u001b[0;34m\u001b[0m\u001b[0m\n\u001b[0m\u001b[1;32m    363\u001b[0m   \u001b[0;32mexcept\u001b[0m \u001b[0;34m(\u001b[0m\u001b[0mStopIteration\u001b[0m\u001b[0;34m,\u001b[0m \u001b[0merrors\u001b[0m\u001b[0;34m.\u001b[0m\u001b[0mOutOfRangeError\u001b[0m\u001b[0;34m)\u001b[0m\u001b[0;34m:\u001b[0m\u001b[0;34m\u001b[0m\u001b[0;34m\u001b[0m\u001b[0m\n\u001b[1;32m    364\u001b[0m     \u001b[0;32mreturn\u001b[0m \u001b[0;32mNone\u001b[0m\u001b[0;34m\u001b[0m\u001b[0;34m\u001b[0m\u001b[0m\n",
      "\u001b[0;32m~/nn/lib/python3.6/site-packages/tensorflow/python/keras/utils/data_utils.py\u001b[0m in \u001b[0;36mget\u001b[0;34m(self)\u001b[0m\n\u001b[1;32m    777\u001b[0m     \u001b[0;32mtry\u001b[0m\u001b[0;34m:\u001b[0m\u001b[0;34m\u001b[0m\u001b[0;34m\u001b[0m\u001b[0m\n\u001b[1;32m    778\u001b[0m       \u001b[0;32mwhile\u001b[0m \u001b[0mself\u001b[0m\u001b[0;34m.\u001b[0m\u001b[0mis_running\u001b[0m\u001b[0;34m(\u001b[0m\u001b[0;34m)\u001b[0m\u001b[0;34m:\u001b[0m\u001b[0;34m\u001b[0m\u001b[0;34m\u001b[0m\u001b[0m\n\u001b[0;32m--> 779\u001b[0;31m         \u001b[0minputs\u001b[0m \u001b[0;34m=\u001b[0m \u001b[0mself\u001b[0m\u001b[0;34m.\u001b[0m\u001b[0mqueue\u001b[0m\u001b[0;34m.\u001b[0m\u001b[0mget\u001b[0m\u001b[0;34m(\u001b[0m\u001b[0mblock\u001b[0m\u001b[0;34m=\u001b[0m\u001b[0;32mTrue\u001b[0m\u001b[0;34m)\u001b[0m\u001b[0;34m.\u001b[0m\u001b[0mget\u001b[0m\u001b[0;34m(\u001b[0m\u001b[0;34m)\u001b[0m\u001b[0;34m\u001b[0m\u001b[0;34m\u001b[0m\u001b[0m\n\u001b[0m\u001b[1;32m    780\u001b[0m         \u001b[0mself\u001b[0m\u001b[0;34m.\u001b[0m\u001b[0mqueue\u001b[0m\u001b[0;34m.\u001b[0m\u001b[0mtask_done\u001b[0m\u001b[0;34m(\u001b[0m\u001b[0;34m)\u001b[0m\u001b[0;34m\u001b[0m\u001b[0;34m\u001b[0m\u001b[0m\n\u001b[1;32m    781\u001b[0m         \u001b[0;32mif\u001b[0m \u001b[0minputs\u001b[0m \u001b[0;32mis\u001b[0m \u001b[0;32mnot\u001b[0m \u001b[0;32mNone\u001b[0m\u001b[0;34m:\u001b[0m\u001b[0;34m\u001b[0m\u001b[0;34m\u001b[0m\u001b[0m\n",
      "\u001b[0;32m/usr/lib/python3.6/multiprocessing/pool.py\u001b[0m in \u001b[0;36mget\u001b[0;34m(self, timeout)\u001b[0m\n\u001b[1;32m    636\u001b[0m \u001b[0;34m\u001b[0m\u001b[0m\n\u001b[1;32m    637\u001b[0m     \u001b[0;32mdef\u001b[0m \u001b[0mget\u001b[0m\u001b[0;34m(\u001b[0m\u001b[0mself\u001b[0m\u001b[0;34m,\u001b[0m \u001b[0mtimeout\u001b[0m\u001b[0;34m=\u001b[0m\u001b[0;32mNone\u001b[0m\u001b[0;34m)\u001b[0m\u001b[0;34m:\u001b[0m\u001b[0;34m\u001b[0m\u001b[0;34m\u001b[0m\u001b[0m\n\u001b[0;32m--> 638\u001b[0;31m         \u001b[0mself\u001b[0m\u001b[0;34m.\u001b[0m\u001b[0mwait\u001b[0m\u001b[0;34m(\u001b[0m\u001b[0mtimeout\u001b[0m\u001b[0;34m)\u001b[0m\u001b[0;34m\u001b[0m\u001b[0;34m\u001b[0m\u001b[0m\n\u001b[0m\u001b[1;32m    639\u001b[0m         \u001b[0;32mif\u001b[0m \u001b[0;32mnot\u001b[0m \u001b[0mself\u001b[0m\u001b[0;34m.\u001b[0m\u001b[0mready\u001b[0m\u001b[0;34m(\u001b[0m\u001b[0;34m)\u001b[0m\u001b[0;34m:\u001b[0m\u001b[0;34m\u001b[0m\u001b[0;34m\u001b[0m\u001b[0m\n\u001b[1;32m    640\u001b[0m             \u001b[0;32mraise\u001b[0m \u001b[0mTimeoutError\u001b[0m\u001b[0;34m\u001b[0m\u001b[0;34m\u001b[0m\u001b[0m\n",
      "\u001b[0;32m/usr/lib/python3.6/multiprocessing/pool.py\u001b[0m in \u001b[0;36mwait\u001b[0;34m(self, timeout)\u001b[0m\n\u001b[1;32m    633\u001b[0m \u001b[0;34m\u001b[0m\u001b[0m\n\u001b[1;32m    634\u001b[0m     \u001b[0;32mdef\u001b[0m \u001b[0mwait\u001b[0m\u001b[0;34m(\u001b[0m\u001b[0mself\u001b[0m\u001b[0;34m,\u001b[0m \u001b[0mtimeout\u001b[0m\u001b[0;34m=\u001b[0m\u001b[0;32mNone\u001b[0m\u001b[0;34m)\u001b[0m\u001b[0;34m:\u001b[0m\u001b[0;34m\u001b[0m\u001b[0;34m\u001b[0m\u001b[0m\n\u001b[0;32m--> 635\u001b[0;31m         \u001b[0mself\u001b[0m\u001b[0;34m.\u001b[0m\u001b[0m_event\u001b[0m\u001b[0;34m.\u001b[0m\u001b[0mwait\u001b[0m\u001b[0;34m(\u001b[0m\u001b[0mtimeout\u001b[0m\u001b[0;34m)\u001b[0m\u001b[0;34m\u001b[0m\u001b[0;34m\u001b[0m\u001b[0m\n\u001b[0m\u001b[1;32m    636\u001b[0m \u001b[0;34m\u001b[0m\u001b[0m\n\u001b[1;32m    637\u001b[0m     \u001b[0;32mdef\u001b[0m \u001b[0mget\u001b[0m\u001b[0;34m(\u001b[0m\u001b[0mself\u001b[0m\u001b[0;34m,\u001b[0m \u001b[0mtimeout\u001b[0m\u001b[0;34m=\u001b[0m\u001b[0;32mNone\u001b[0m\u001b[0;34m)\u001b[0m\u001b[0;34m:\u001b[0m\u001b[0;34m\u001b[0m\u001b[0;34m\u001b[0m\u001b[0m\n",
      "\u001b[0;32m/usr/lib/python3.6/threading.py\u001b[0m in \u001b[0;36mwait\u001b[0;34m(self, timeout)\u001b[0m\n\u001b[1;32m    549\u001b[0m             \u001b[0msignaled\u001b[0m \u001b[0;34m=\u001b[0m \u001b[0mself\u001b[0m\u001b[0;34m.\u001b[0m\u001b[0m_flag\u001b[0m\u001b[0;34m\u001b[0m\u001b[0;34m\u001b[0m\u001b[0m\n\u001b[1;32m    550\u001b[0m             \u001b[0;32mif\u001b[0m \u001b[0;32mnot\u001b[0m \u001b[0msignaled\u001b[0m\u001b[0;34m:\u001b[0m\u001b[0;34m\u001b[0m\u001b[0;34m\u001b[0m\u001b[0m\n\u001b[0;32m--> 551\u001b[0;31m                 \u001b[0msignaled\u001b[0m \u001b[0;34m=\u001b[0m \u001b[0mself\u001b[0m\u001b[0;34m.\u001b[0m\u001b[0m_cond\u001b[0m\u001b[0;34m.\u001b[0m\u001b[0mwait\u001b[0m\u001b[0;34m(\u001b[0m\u001b[0mtimeout\u001b[0m\u001b[0;34m)\u001b[0m\u001b[0;34m\u001b[0m\u001b[0;34m\u001b[0m\u001b[0m\n\u001b[0m\u001b[1;32m    552\u001b[0m             \u001b[0;32mreturn\u001b[0m \u001b[0msignaled\u001b[0m\u001b[0;34m\u001b[0m\u001b[0;34m\u001b[0m\u001b[0m\n\u001b[1;32m    553\u001b[0m \u001b[0;34m\u001b[0m\u001b[0m\n",
      "\u001b[0;32m/usr/lib/python3.6/threading.py\u001b[0m in \u001b[0;36mwait\u001b[0;34m(self, timeout)\u001b[0m\n\u001b[1;32m    293\u001b[0m         \u001b[0;32mtry\u001b[0m\u001b[0;34m:\u001b[0m    \u001b[0;31m# restore state no matter what (e.g., KeyboardInterrupt)\u001b[0m\u001b[0;34m\u001b[0m\u001b[0;34m\u001b[0m\u001b[0m\n\u001b[1;32m    294\u001b[0m             \u001b[0;32mif\u001b[0m \u001b[0mtimeout\u001b[0m \u001b[0;32mis\u001b[0m \u001b[0;32mNone\u001b[0m\u001b[0;34m:\u001b[0m\u001b[0;34m\u001b[0m\u001b[0;34m\u001b[0m\u001b[0m\n\u001b[0;32m--> 295\u001b[0;31m                 \u001b[0mwaiter\u001b[0m\u001b[0;34m.\u001b[0m\u001b[0macquire\u001b[0m\u001b[0;34m(\u001b[0m\u001b[0;34m)\u001b[0m\u001b[0;34m\u001b[0m\u001b[0;34m\u001b[0m\u001b[0m\n\u001b[0m\u001b[1;32m    296\u001b[0m                 \u001b[0mgotit\u001b[0m \u001b[0;34m=\u001b[0m \u001b[0;32mTrue\u001b[0m\u001b[0;34m\u001b[0m\u001b[0;34m\u001b[0m\u001b[0m\n\u001b[1;32m    297\u001b[0m             \u001b[0;32melse\u001b[0m\u001b[0;34m:\u001b[0m\u001b[0;34m\u001b[0m\u001b[0;34m\u001b[0m\u001b[0m\n",
      "\u001b[0;31mKeyboardInterrupt\u001b[0m: "
     ]
    }
   ],
   "source": [
    "features = feature_model.predict_generator(generator, workers=4, use_multiprocessing=True, verbose=1)"
   ]
  },
  {
   "cell_type": "code",
   "execution_count": null,
   "metadata": {
    "collapsed": false
   },
   "outputs": [],
   "source": [
    "features.shape"
   ]
  },
  {
   "cell_type": "code",
   "execution_count": null,
   "metadata": {
    "collapsed": true
   },
   "outputs": [],
   "source": []
  }
 ],
 "metadata": {
  "kernelspec": {
   "display_name": "Python 3",
   "language": "python",
   "name": "python3"
  },
  "language_info": {
   "codemirror_mode": {
    "name": "ipython",
    "version": 3
   },
   "file_extension": ".py",
   "mimetype": "text/x-python",
   "name": "python",
   "nbconvert_exporter": "python",
   "pygments_lexer": "ipython3",
   "version": "3.6.6"
  }
 },
 "nbformat": 4,
 "nbformat_minor": 2
}
