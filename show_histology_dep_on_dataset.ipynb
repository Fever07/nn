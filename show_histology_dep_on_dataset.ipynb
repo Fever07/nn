{
 "cells": [
  {
   "cell_type": "code",
   "execution_count": 1,
   "metadata": {
    "collapsed": false
   },
   "outputs": [],
   "source": [
    "import os\n",
    "from results import rate_attacked, attacked_by_bins\n",
    "import numpy as np\n",
    "from matplotlib import pyplot as plt\n",
    "import matplotlib.ticker as ticker\n",
    "%matplotlib inline\n",
    "import csv\n",
    "from matplotlib import rcParams\n",
    "from matplotlib.font_manager import FontProperties\n",
    "rcParams['font.family'] = 'Times New Roman'\n",
    "rcParams['figure.figsize'] = (10, 6)\n",
    "\n",
    "from core.utils_nn import get_model_path, parse_file, parse_pred_file, parse_attack_files\n",
    "from parse import parse"
   ]
  },
  {
   "cell_type": "code",
   "execution_count": 2,
   "metadata": {
    "collapsed": true
   },
   "outputs": [],
   "source": [
    "d_f = '../__histology_camelyon_{}'\n",
    "l_f = 'H-{}'\n",
    "ns = [500, 1000, 2000, 5000, 10000, 20000, 50000, 100000]\n",
    "datasets = []\n",
    "for n in ns:\n",
    "    datasets.append({\n",
    "        'absp': d_f.format(n),\n",
    "        'label': l_f.format(n)\n",
    "    })"
   ]
  },
  {
   "cell_type": "code",
   "execution_count": 3,
   "metadata": {
    "collapsed": false
   },
   "outputs": [
    {
     "data": {
      "text/plain": [
       "[{'absp': '../__histology_camelyon_500', 'label': 'H-500'},\n",
       " {'absp': '../__histology_camelyon_1000', 'label': 'H-1000'},\n",
       " {'absp': '../__histology_camelyon_2000', 'label': 'H-2000'},\n",
       " {'absp': '../__histology_camelyon_5000', 'label': 'H-5000'},\n",
       " {'absp': '../__histology_camelyon_10000', 'label': 'H-10000'},\n",
       " {'absp': '../__histology_camelyon_20000', 'label': 'H-20000'},\n",
       " {'absp': '../__histology_camelyon_50000', 'label': 'H-50000'},\n",
       " {'absp': '../__histology_camelyon_100000', 'label': 'H-100000'}]"
      ]
     },
     "execution_count": 3,
     "metadata": {},
     "output_type": "execute_result"
    }
   ],
   "source": [
    "datasets"
   ]
  },
  {
   "cell_type": "code",
   "execution_count": 4,
   "metadata": {
    "collapsed": false
   },
   "outputs": [],
   "source": [
    "for ds in datasets:\n",
    "    cwd = os.getcwd()\n",
    "    os.chdir(ds['absp'])\n",
    "    \n",
    "    _, labels = parse_file('test.txt')\n",
    "    probs = parse_pred_file('pred_test.pkl')\n",
    "    \n",
    "    ds['labels'] = labels\n",
    "    ds['probs'] = probs\n",
    "    \n",
    "    os.chdir(cwd)"
   ]
  },
  {
   "cell_type": "code",
   "execution_count": 7,
   "metadata": {
    "collapsed": false
   },
   "outputs": [
    {
     "name": "stdout",
     "output_type": "stream",
     "text": [
      "(20, 2, 125, 2) float32\n",
      "(20, 2, 250, 2) float32\n",
      "(20, 2, 500, 2) float32\n",
      "(20, 2, 1250, 2) float32\n",
      "(20, 2, 2500, 2) float32\n",
      "(20, 2, 5000, 2) float32\n",
      "(20, 2, 12500, 2) float32\n",
      "(20, 2, 25000, 2) float32\n"
     ]
    }
   ],
   "source": [
    "X = ns\n",
    "ys = []\n",
    "iter_space = list(range(1, 21))\n",
    "eps_space = [0.1, 0.2]\n",
    "for ds in datasets:\n",
    "    cwd = os.getcwd()\n",
    "    os.chdir(ds['absp'])\n",
    "    \n",
    "    labels = np.array(ds['labels'])\n",
    "    probs = ds['probs']\n",
    "    \n",
    "    f = 'a_test_PGD_eps_{0:0.2}_max_iter_{1}.pkl'\n",
    "    a_probs_for_iters = parse_attack_files(f, iter_space, eps_space)\n",
    "    \n",
    "    y = []\n",
    "    for i, eps in enumerate(eps_space):\n",
    "#         Last iteration\n",
    "        a_probs = a_probs_for_iters[-1] \n",
    "#         Eps\n",
    "        a_probs = a_probs[i]\n",
    "        a_probs = np.squeeze(a_probs)\n",
    "        \n",
    "        pred_labels = np.argmax(probs, axis=1)\n",
    "        true_inds = np.where((pred_labels - labels) == 0)[0]\n",
    "\n",
    "        #     Look only on correctly predicted images before attack\n",
    "        labels = labels[true_inds]\n",
    "        probs = probs[true_inds]\n",
    "        a_probs = a_probs[true_inds]\n",
    "\n",
    "        a_labels = np.argmax(a_probs, axis=1)\n",
    "        a_inds = np.where((a_labels - labels) != 0)[0]\n",
    "        attack_rate = len(a_inds) / len(true_inds)\n",
    "        y.append(attack_rate)\n",
    "        \n",
    "    ys.append(y)\n",
    "    \n",
    "    os.chdir(cwd)"
   ]
  },
  {
   "cell_type": "code",
   "execution_count": 6,
   "metadata": {
    "collapsed": false
   },
   "outputs": [
    {
     "data": {
      "image/png": "[encoded data removed]",
      "text/plain": [
       "<Figure size 432x288 with 1 Axes>"
      ]
     },
     "metadata": {
      "needs_background": "light"
     },
     "output_type": "display_data"
    }
   ],
   "source": [
    "# Show each plot separately\n",
    "fig, ax = plt.subplots(1, 1)\n",
    "\n",
    "file = open('plots/hist_by_train_size.csv', 'w', newline='')\n",
    "writer = csv.writer(file, delimiter=',', quotechar=' ')\n",
    "writer.writerow(['X'] + list(map(str, X)))\n",
    "fmts = ['^-', 'v-']\n",
    "for i, y in enumerate(np.array(ys).T):\n",
    "    label = r'$\\epsilon$' + ': {0}'.format(eps_space[i])\n",
    "    ax.plot(X, y, fmts[i], label=label, markersize=14, lw=3)\n",
    "\n",
    "    writer.writerow([label] + list(map('{0:6.4F}'.format, y.tolist())))\n",
    "\n",
    "file.close()\n",
    "\n",
    "locator = ticker.LogLocator(base=10)\n",
    "ax.xaxis.set_major_locator(locator)\n",
    "ax.xaxis.set_tick_params(size=10)\n",
    "ax.yaxis.set_tick_params(size=10)\n",
    "ax.set_xscale('log')\n",
    "for xl in ax.get_xticklabels():\n",
    "    xl.set_fontsize(24)\n",
    "for yl in ax.get_yticklabels():\n",
    "    yl.set_fontsize(24)\n",
    "# ax.set_xticks(X, fontsize=24)\n",
    "# ax.set_yticks(np.arange(0, 0.7, 0.1), fontsize=24)\n",
    "ax.legend(fontsize=20)\n",
    "\n",
    "# plt.title('Fig.1 - Dependence of rate of misclassified images on amplitude, last iteration', loc='bottom')\n",
    "ax.set_xlabel('Train dataset size', fontsize=24)\n",
    "ax.set_ylabel('Attack rate', fontsize=24);\n",
    "\n",
    "plt.tight_layout()\n",
    "# ax.show()\n",
    "fig.savefig('plots/hist_by_train_size.png', bbox_inches='tight')\n",
    "\n"
   ]
  },
  {
   "cell_type": "code",
   "execution_count": null,
   "metadata": {
    "collapsed": true
   },
   "outputs": [],
   "source": []
  }
 ],
 "metadata": {
  "kernelspec": {
   "display_name": "Python 3",
   "language": "python",
   "name": "python3"
  },
  "language_info": {
   "codemirror_mode": {
    "name": "ipython",
    "version": 3
   },
   "file_extension": ".py",
   "mimetype": "text/x-python",
   "name": "python",
   "nbconvert_exporter": "python",
   "pygments_lexer": "ipython3",
   "version": "3.6.6"
  }
 },
 "nbformat": 4,
 "nbformat_minor": 2
}
